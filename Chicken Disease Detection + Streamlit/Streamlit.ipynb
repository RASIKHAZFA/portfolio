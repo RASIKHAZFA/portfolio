{
  "cells": [
    {
      "cell_type": "code",
      "execution_count": 8,
      "metadata": {
        "colab": {
          "base_uri": "https://localhost:8080/"
        },
        "id": "RvlYkCQ9vFiy",
        "outputId": "a64c0042-d3c1-48ef-a468-f41ce0b5def1"
      },
      "outputs": [
        {
          "name": "stdout",
          "output_type": "stream",
          "text": [
            "\u001b[2K     \u001b[90m━━━━━━━━━━━━━━━━━━━━━━━━━━━━━━━━━━━━━━━━\u001b[0m \u001b[32m8.4/8.4 MB\u001b[0m \u001b[31m25.1 MB/s\u001b[0m eta \u001b[36m0:00:00\u001b[0m\n",
            "\u001b[2K     \u001b[90m━━━━━━━━━━━━━━━━━━━━━━━━━━━━━━━━━━━━━━━━\u001b[0m \u001b[32m196.4/196.4 kB\u001b[0m \u001b[31m18.1 MB/s\u001b[0m eta \u001b[36m0:00:00\u001b[0m\n",
            "\u001b[2K     \u001b[90m━━━━━━━━━━━━━━━━━━━━━━━━━━━━━━━━━━━━━━━━\u001b[0m \u001b[32m4.8/4.8 MB\u001b[0m \u001b[31m59.3 MB/s\u001b[0m eta \u001b[36m0:00:00\u001b[0m\n",
            "\u001b[2K     \u001b[90m━━━━━━━━━━━━━━━━━━━━━━━━━━━━━━━━━━━━━━━━\u001b[0m \u001b[32m82.1/82.1 kB\u001b[0m \u001b[31m8.2 MB/s\u001b[0m eta \u001b[36m0:00:00\u001b[0m\n",
            "\u001b[2K     \u001b[90m━━━━━━━━━━━━━━━━━━━━━━━━━━━━━━━━━━━━━━━━\u001b[0m \u001b[32m62.7/62.7 kB\u001b[0m \u001b[31m6.5 MB/s\u001b[0m eta \u001b[36m0:00:00\u001b[0m\n",
            "\u001b[?25h"
          ]
        }
      ],
      "source": [
        "!pip install -q streamlit"
      ]
    },
    {
      "cell_type": "code",
      "execution_count": 9,
      "metadata": {
        "colab": {
          "base_uri": "https://localhost:8080/"
        },
        "id": "5jcHpjNZAFM7",
        "outputId": "caf4c14a-852a-4b70-fe1d-07ed84f8c6e2"
      },
      "outputs": [
        {
          "name": "stdout",
          "output_type": "stream",
          "text": [
            "\u001b[K\u001b[?25h\u001b[37;40mnpm\u001b[0m \u001b[0m\u001b[30;43mWARN\u001b[0m \u001b[0m\u001b[35msaveError\u001b[0m ENOENT: no such file or directory, open '/content/package.json'\n",
            "\u001b[K\u001b[?25h\u001b[37;40mnpm\u001b[0m \u001b[0m\u001b[34;40mnotice\u001b[0m\u001b[35m\u001b[0m created a lockfile as package-lock.json. You should commit this file.\n",
            "\u001b[0m\u001b[37;40mnpm\u001b[0m \u001b[0m\u001b[30;43mWARN\u001b[0m \u001b[0m\u001b[35menoent\u001b[0m ENOENT: no such file or directory, open '/content/package.json'\n",
            "\u001b[0m\u001b[37;40mnpm\u001b[0m \u001b[0m\u001b[30;43mWARN\u001b[0m\u001b[35m\u001b[0m content No description\n",
            "\u001b[0m\u001b[37;40mnpm\u001b[0m \u001b[0m\u001b[30;43mWARN\u001b[0m\u001b[35m\u001b[0m content No repository field.\n",
            "\u001b[0m\u001b[37;40mnpm\u001b[0m \u001b[0m\u001b[30;43mWARN\u001b[0m\u001b[35m\u001b[0m content No README data\n",
            "\u001b[0m\u001b[37;40mnpm\u001b[0m \u001b[0m\u001b[30;43mWARN\u001b[0m\u001b[35m\u001b[0m content No license field.\n",
            "\u001b[0m\n",
            "+ localtunnel@2.0.2\n",
            "added 22 packages from 22 contributors and audited 22 packages in 0.978s\n",
            "\n",
            "3 packages are looking for funding\n",
            "  run `npm fund` for details\n",
            "\n",
            "found 1 \u001b[93mmoderate\u001b[0m severity vulnerability\n",
            "  run `npm audit fix` to fix them, or `npm audit` for details\n"
          ]
        }
      ],
      "source": [
        "!npm install localtunnel"
      ]
    },
    {
      "cell_type": "markdown",
      "metadata": {
        "id": "waCfwniZOow8"
      },
      "source": [
        "## Create a streamlit app example\n"
      ]
    },
    {
      "cell_type": "code",
      "execution_count": 55,
      "metadata": {
        "colab": {
          "base_uri": "https://localhost:8080/"
        },
        "id": "dQyw1LnPIayV",
        "outputId": "b29a487a-3034-4414-a9ca-d131af93cfae"
      },
      "outputs": [
        {
          "name": "stdout",
          "output_type": "stream",
          "text": [
            "Overwriting app.py\n"
          ]
        }
      ],
      "source": [
        "%%writefile app.py\n",
        "import streamlit as st\n",
        "import tensorflow as tf\n",
        "from PIL import Image, ImageOps\n",
        "import cv2\n",
        "import numpy as np\n",
        "import joblib\n",
        "\n",
        "label_encoder = joblib.load('label_encoder.joblib')\n",
        "\n",
        "@st.cache(allow_output_mutation=True)\n",
        "\n",
        "def load_model():\n",
        "    model = tf.keras.models.load_model('/content/best_model.h5')\n",
        "    return model\n",
        "\n",
        "# Load the pre-trained model\n",
        "with st.spinner('Model is being loaded..'):\n",
        "     model = load_model()\n",
        "\n",
        "st.write(\"# Chicken Disease Image Classification\")\n",
        "\n",
        "file = st.file_uploader(\"Please upload a Chicken Poop Image\", type=[\"jpg\", \"png\"])\n",
        "\n",
        "def import_and_predict(image, model):\n",
        "    # Resize the image to the desired size\n",
        "    size = (128, 128)\n",
        "    image = Image.fromarray(image)  # Convert from numpy array to PIL Image\n",
        "    image = image.resize(size)\n",
        "\n",
        "    # Convert the image to a numpy array with RGB color\n",
        "    image_np = np.array(image.convert(\"RGB\"))\n",
        "\n",
        "    # Make prediction\n",
        "    prediction = model.predict(np.expand_dims(image_np, axis=0))  # Hapus langkah ini jika tidak diperlukan\n",
        "\n",
        "    return prediction\n",
        "\n",
        "    return prediction\n",
        "def recommend_treatment(disease):\n",
        "    if disease == \"Coccidiosis\":\n",
        "        return \"\"\"\n",
        "        - Vaksinasi coccidiosis\n",
        "        - Perhatikan kondisi dan kebersihan kandang\n",
        "        - Gunakan Koksidiostat, Ssulfadimetoksin, dan antibiotik (tetrasiklin, eritromisin, spektinomisin, dan tilosin)\n",
        "        - Lakukan terapi antioksidan\n",
        "        \"\"\"\n",
        "    elif disease == \"New Castle Disease\":\n",
        "        return \"\"\"\n",
        "        - Ayam yang tertular harus dengan cepat dikarantina\n",
        "        - Jika terlalu parah, ayam harus dimusnahkan untuk menghindari penularan\n",
        "        - Vaksinasi melalui tetes mata\n",
        "        \"\"\"\n",
        "    elif disease == \"Salmonella\":\n",
        "        return \"\"\"\n",
        "        - Desinfeksi kandang dari salmonela\n",
        "        - Rutin membersihkan tempat makan ayam\n",
        "        - Berikan Antibiotik seperti amoksisilin dan kolistin\n",
        "        \"\"\"\n",
        "    else:\n",
        "        return \"Rekomendasi pengobatan tidak tersedia.\"\n",
        "\n",
        "if file is None:\n",
        "    st.text(\"Please upload an image file\")\n",
        "else:\n",
        "    image = Image.open(file)\n",
        "    st.image(image, use_column_width=True)\n",
        "\n",
        "    # Convert the image to a numpy array\n",
        "    image_np = np.array(ImageOps.exif_transpose(image).convert(\"RGB\"))\n",
        "\n",
        "    st.write(\"Input Image Shape:\", image_np.shape)\n",
        "\n",
        "    # Make predictions\n",
        "    predictions = import_and_predict(image_np, model)\n",
        "    predicted_class_index = np.argmax(predictions)\n",
        "\n",
        "    # Convert predicted class index to original class name using label encoder\n",
        "    predicted_class_name = label_encoder.inverse_transform([predicted_class_index])[0]\n",
        "\n",
        "    # Display results\n",
        "    st.write(\"Prediction:\")\n",
        "    st.write(f\"Predicted Class: {predicted_class_name}\")\n",
        "    st.write(f\"Confidence: {predictions[0][predicted_class_index]*100:.2f}%\")\n",
        "\n",
        "    # Recommendation based on the predicted class\n",
        "    treatment_recommendation = recommend_treatment(predicted_class_name)\n",
        "    st.subheader(\"Treatment Recommendation:\")\n",
        "    st.write(treatment_recommendation)\n"
      ]
    },
    {
      "cell_type": "markdown",
      "metadata": {
        "id": "kccYE2lkN20y"
      },
      "source": [
        "## Run streamlit in background"
      ]
    },
    {
      "cell_type": "code",
      "execution_count": 56,
      "metadata": {
        "id": "Zv912rRAN0fs"
      },
      "outputs": [],
      "source": [
        "!streamlit run /content/app.py &>/content/logs.txt &"
      ]
    },
    {
      "cell_type": "code",
      "execution_count": null,
      "metadata": {
        "colab": {
          "base_uri": "https://localhost:8080/"
        },
        "id": "GdnQfghlS7CB",
        "outputId": "42db40a5-8f7a-44d8-eb9a-5e7defbd5585"
      },
      "outputs": [],
      "source": [
        "import urllib\n",
        "print(\"Password/Enpoint IP for localtunnel is:\",urllib.request.urlopen('https://ipv4.icanhazip.com').read().decode('utf8').strip(\"\\n\"))"
      ]
    },
    {
      "cell_type": "code",
      "execution_count": null,
      "metadata": {
        "colab": {
          "base_uri": "https://localhost:8080/"
        },
        "id": "XTGAizLhOIgC",
        "outputId": "5821c4b2-27aa-4af0-ca97-21a88542af3f"
      },
      "outputs": [],
      "source": [
        "!npx localtunnel --port 8501"
      ]
    },
    {
      "cell_type": "code",
      "execution_count": 47,
      "metadata": {
        "id": "tJigpnTxTluA"
      },
      "outputs": [],
      "source": []
    }
  ],
  "metadata": {
    "colab": {
      "provenance": []
    },
    "kernelspec": {
      "display_name": "Python 3",
      "name": "python3"
    }
  },
  "nbformat": 4,
  "nbformat_minor": 0
}
